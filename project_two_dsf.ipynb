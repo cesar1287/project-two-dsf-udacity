{
 "cells": [
  {
   "cell_type": "markdown",
   "metadata": {},
   "source": [
    "## Tragédia do Titanic\n",
    "Um dos piores desastres marítimos da história teve início na noite de 14 de abril e terminou na manhã de 15 de abril de 1912, o luxuoso transatlântico RMS Titanic foi ao fundo do mar após colidir com um iceberg no Oceano Atlântico. O acidente aconteceu horas depois de o navio ter deixado o porto de Southampton, na Inglaterra, na véspera. Dos 2.224 passageiros a bordo, mais de 1500 pessoas morreram afogadas ou por conta do frio. Era o triste fim da viagem inaugural do Titanic, que deveria ter como destino final a cidade de Nova York. Pouco antes da meia-noite do dia 14 de abril, o Titanic navegava em uma área de água parada, sem ondas, um verdadeiro espelho e também um inconveniente para detectar icebergs. Com uma noite estrelada e um mar excepcionalmente calmo, os vigias deram o aviso do iceberg a 600 metros da proa. O Primeiro Oficial Murdoch, de plantão no momento após a retirada do Capitão Smith em sua cabine, tentou evitar a colisão. Porém, o navio raspou no iceberg, o que abriu seis fendas em seu casco. A partir desde momento, o Titanic estava condenado. Para agravar a situação, não havia botes salva-vidas para todos os passageiros, apesar de o navio estar seguindo a legislação vigente na época. Este foi um dos piores desastres marítimos da história em tempos de paz e talvez o mais famoso.\n",
    "\n",
    "## Analisar dados demográficos e informações de 891 dos 2.224 passageiros e tripulantes a bordo do Titanic\n",
    "`titanic-data-6.csv` contém dados demográficos e informações de 891 dos 2.224 passageiros e tripulantes a bordo do Titanic. Você pode ver uma descrição deste conjunto de dados no [site do Kaggle](https://www.kaggle.com/c/titanic/data), de onde os dados foram tirados.\n",
    "\n",
    "### Perguntas à serem feitas\n",
    "\n",
    "1. Quantos passageiros havia em cada classe do navio?\n",
    "2. Quantas mulheres havia a bordo do navio?\n",
    "3. Quantos homens havia a bordo do navio?\n",
    "4. Qual a média das idades das mulheres?\n",
    "5. Qual a média das idades dos homens?\n",
    "6. Qual a idade da mulher mais idosa?\n",
    "7. Qual a idade do homem mais idoso?\n",
    "8. Quantas mulheres havia em cada classe do navio?\n",
    "9. Quantos homens havia em cada classe do navio?\n",
    "10. Qual a média de idade das mulheres em cada classe do navio?\n",
    "11. Qual a média de idade dos homens em cada classe do navio?\n",
    "12. Qual o valor médio do tíquete para cada classe?\n",
    "13. Qual a idade média dos sobreviventes do naufrágio?\n",
    "14. Qual a idade média das vítimas do naufrágio?\n",
    "15. Qual a idade do sobrevivente mais novo?\n",
    "16. Qual a idade da vítima mais nova?\n",
    "17. Qual a idade do sobrevivente mais idoso?\n",
    "18. Qual a idade da vítima mais idosa?\n",
    "19. Qual o valor médio dos tíquetes de sobreviventes em cada classe do navio?\n",
    "20. Qual o valor médio dos tíquetes das vítimas em cada classe do navio?\n",
    "21. Quais fatores contribuíram para a sobrevivência dos passageiros a bordo?"
   ]
  },
  {
   "cell_type": "code",
   "execution_count": 1,
   "metadata": {},
   "outputs": [
    {
     "data": {
      "text/html": [
       "<div>\n",
       "<style scoped>\n",
       "    .dataframe tbody tr th:only-of-type {\n",
       "        vertical-align: middle;\n",
       "    }\n",
       "\n",
       "    .dataframe tbody tr th {\n",
       "        vertical-align: top;\n",
       "    }\n",
       "\n",
       "    .dataframe thead th {\n",
       "        text-align: right;\n",
       "    }\n",
       "</style>\n",
       "<table border=\"1\" class=\"dataframe\">\n",
       "  <thead>\n",
       "    <tr style=\"text-align: right;\">\n",
       "      <th></th>\n",
       "      <th>PassengerId</th>\n",
       "      <th>Survived</th>\n",
       "      <th>Pclass</th>\n",
       "      <th>Name</th>\n",
       "      <th>Sex</th>\n",
       "      <th>Age</th>\n",
       "      <th>SibSp</th>\n",
       "      <th>Parch</th>\n",
       "      <th>Ticket</th>\n",
       "      <th>Fare</th>\n",
       "      <th>Cabin</th>\n",
       "      <th>Embarked</th>\n",
       "    </tr>\n",
       "  </thead>\n",
       "  <tbody>\n",
       "    <tr>\n",
       "      <th>0</th>\n",
       "      <td>1</td>\n",
       "      <td>0</td>\n",
       "      <td>3</td>\n",
       "      <td>Braund, Mr. Owen Harris</td>\n",
       "      <td>male</td>\n",
       "      <td>22.0</td>\n",
       "      <td>1</td>\n",
       "      <td>0</td>\n",
       "      <td>A/5 21171</td>\n",
       "      <td>7.2500</td>\n",
       "      <td>NaN</td>\n",
       "      <td>S</td>\n",
       "    </tr>\n",
       "    <tr>\n",
       "      <th>1</th>\n",
       "      <td>2</td>\n",
       "      <td>1</td>\n",
       "      <td>1</td>\n",
       "      <td>Cumings, Mrs. John Bradley (Florence Briggs Th...</td>\n",
       "      <td>female</td>\n",
       "      <td>38.0</td>\n",
       "      <td>1</td>\n",
       "      <td>0</td>\n",
       "      <td>PC 17599</td>\n",
       "      <td>71.2833</td>\n",
       "      <td>C85</td>\n",
       "      <td>C</td>\n",
       "    </tr>\n",
       "    <tr>\n",
       "      <th>2</th>\n",
       "      <td>3</td>\n",
       "      <td>1</td>\n",
       "      <td>3</td>\n",
       "      <td>Heikkinen, Miss. Laina</td>\n",
       "      <td>female</td>\n",
       "      <td>26.0</td>\n",
       "      <td>0</td>\n",
       "      <td>0</td>\n",
       "      <td>STON/O2. 3101282</td>\n",
       "      <td>7.9250</td>\n",
       "      <td>NaN</td>\n",
       "      <td>S</td>\n",
       "    </tr>\n",
       "    <tr>\n",
       "      <th>3</th>\n",
       "      <td>4</td>\n",
       "      <td>1</td>\n",
       "      <td>1</td>\n",
       "      <td>Futrelle, Mrs. Jacques Heath (Lily May Peel)</td>\n",
       "      <td>female</td>\n",
       "      <td>35.0</td>\n",
       "      <td>1</td>\n",
       "      <td>0</td>\n",
       "      <td>113803</td>\n",
       "      <td>53.1000</td>\n",
       "      <td>C123</td>\n",
       "      <td>S</td>\n",
       "    </tr>\n",
       "    <tr>\n",
       "      <th>4</th>\n",
       "      <td>5</td>\n",
       "      <td>0</td>\n",
       "      <td>3</td>\n",
       "      <td>Allen, Mr. William Henry</td>\n",
       "      <td>male</td>\n",
       "      <td>35.0</td>\n",
       "      <td>0</td>\n",
       "      <td>0</td>\n",
       "      <td>373450</td>\n",
       "      <td>8.0500</td>\n",
       "      <td>NaN</td>\n",
       "      <td>S</td>\n",
       "    </tr>\n",
       "  </tbody>\n",
       "</table>\n",
       "</div>"
      ],
      "text/plain": [
       "   PassengerId  Survived  Pclass  \\\n",
       "0            1         0       3   \n",
       "1            2         1       1   \n",
       "2            3         1       3   \n",
       "3            4         1       1   \n",
       "4            5         0       3   \n",
       "\n",
       "                                                Name     Sex   Age  SibSp  \\\n",
       "0                            Braund, Mr. Owen Harris    male  22.0      1   \n",
       "1  Cumings, Mrs. John Bradley (Florence Briggs Th...  female  38.0      1   \n",
       "2                             Heikkinen, Miss. Laina  female  26.0      0   \n",
       "3       Futrelle, Mrs. Jacques Heath (Lily May Peel)  female  35.0      1   \n",
       "4                           Allen, Mr. William Henry    male  35.0      0   \n",
       "\n",
       "   Parch            Ticket     Fare Cabin Embarked  \n",
       "0      0         A/5 21171   7.2500   NaN        S  \n",
       "1      0          PC 17599  71.2833   C85        C  \n",
       "2      0  STON/O2. 3101282   7.9250   NaN        S  \n",
       "3      0            113803  53.1000  C123        S  \n",
       "4      0            373450   8.0500   NaN        S  "
      ]
     },
     "execution_count": 1,
     "metadata": {},
     "output_type": "execute_result"
    }
   ],
   "source": [
    "import numpy as np\n",
    "import pandas as pd\n",
    "import matplotlib.pyplot as plt\n",
    "%matplotlib inline\n",
    "import seaborn as sns\n",
    "sns.set_style('darkgrid')\n",
    "\n",
    "df_titanic = pd.read_csv(r'C:\\Users\\rasec\\Downloads\\project-two-dsf-udacity/titanic-data-6.csv')\n",
    "df_titanic.head()"
   ]
  },
  {
   "cell_type": "code",
   "execution_count": 2,
   "metadata": {},
   "outputs": [
    {
     "name": "stdout",
     "output_type": "stream",
     "text": [
      "<class 'pandas.core.frame.DataFrame'>\n",
      "RangeIndex: 891 entries, 0 to 890\n",
      "Data columns (total 12 columns):\n",
      "PassengerId    891 non-null int64\n",
      "Survived       891 non-null int64\n",
      "Pclass         891 non-null int64\n",
      "Name           891 non-null object\n",
      "Sex            891 non-null object\n",
      "Age            714 non-null float64\n",
      "SibSp          891 non-null int64\n",
      "Parch          891 non-null int64\n",
      "Ticket         891 non-null object\n",
      "Fare           891 non-null float64\n",
      "Cabin          204 non-null object\n",
      "Embarked       889 non-null object\n",
      "dtypes: float64(2), int64(5), object(5)\n",
      "memory usage: 83.6+ KB\n"
     ]
    }
   ],
   "source": [
    "df_titanic.info()"
   ]
  },
  {
   "cell_type": "markdown",
   "metadata": {},
   "source": [
    "## Limpeza\n",
    "Vemos de cara com o DataFrame.info() dos dados, que existem três colunas com dados faltantes, são elas `Age`, `Cabin` e `Embarked`\n",
    "\n",
    "Analisando a descrição dos dados, no site indicado, chegamos a conclusão que `Cabin` é desnecessário, logo, podemos descartá-la sem problemas, é o que faremos à seguir:"
   ]
  },
  {
   "cell_type": "code",
   "execution_count": 3,
   "metadata": {},
   "outputs": [],
   "source": [
    "df_titanic.drop(['Cabin'], axis=1, inplace=True)"
   ]
  },
  {
   "cell_type": "code",
   "execution_count": 4,
   "metadata": {},
   "outputs": [
    {
     "data": {
      "text/html": [
       "<div>\n",
       "<style scoped>\n",
       "    .dataframe tbody tr th:only-of-type {\n",
       "        vertical-align: middle;\n",
       "    }\n",
       "\n",
       "    .dataframe tbody tr th {\n",
       "        vertical-align: top;\n",
       "    }\n",
       "\n",
       "    .dataframe thead th {\n",
       "        text-align: right;\n",
       "    }\n",
       "</style>\n",
       "<table border=\"1\" class=\"dataframe\">\n",
       "  <thead>\n",
       "    <tr style=\"text-align: right;\">\n",
       "      <th></th>\n",
       "      <th>PassengerId</th>\n",
       "      <th>Survived</th>\n",
       "      <th>Pclass</th>\n",
       "      <th>Name</th>\n",
       "      <th>Sex</th>\n",
       "      <th>Age</th>\n",
       "      <th>SibSp</th>\n",
       "      <th>Parch</th>\n",
       "      <th>Ticket</th>\n",
       "      <th>Fare</th>\n",
       "      <th>Embarked</th>\n",
       "    </tr>\n",
       "  </thead>\n",
       "  <tbody>\n",
       "    <tr>\n",
       "      <th>0</th>\n",
       "      <td>1</td>\n",
       "      <td>0</td>\n",
       "      <td>3</td>\n",
       "      <td>Braund, Mr. Owen Harris</td>\n",
       "      <td>male</td>\n",
       "      <td>22.0</td>\n",
       "      <td>1</td>\n",
       "      <td>0</td>\n",
       "      <td>A/5 21171</td>\n",
       "      <td>7.2500</td>\n",
       "      <td>S</td>\n",
       "    </tr>\n",
       "    <tr>\n",
       "      <th>1</th>\n",
       "      <td>2</td>\n",
       "      <td>1</td>\n",
       "      <td>1</td>\n",
       "      <td>Cumings, Mrs. John Bradley (Florence Briggs Th...</td>\n",
       "      <td>female</td>\n",
       "      <td>38.0</td>\n",
       "      <td>1</td>\n",
       "      <td>0</td>\n",
       "      <td>PC 17599</td>\n",
       "      <td>71.2833</td>\n",
       "      <td>C</td>\n",
       "    </tr>\n",
       "    <tr>\n",
       "      <th>2</th>\n",
       "      <td>3</td>\n",
       "      <td>1</td>\n",
       "      <td>3</td>\n",
       "      <td>Heikkinen, Miss. Laina</td>\n",
       "      <td>female</td>\n",
       "      <td>26.0</td>\n",
       "      <td>0</td>\n",
       "      <td>0</td>\n",
       "      <td>STON/O2. 3101282</td>\n",
       "      <td>7.9250</td>\n",
       "      <td>S</td>\n",
       "    </tr>\n",
       "    <tr>\n",
       "      <th>3</th>\n",
       "      <td>4</td>\n",
       "      <td>1</td>\n",
       "      <td>1</td>\n",
       "      <td>Futrelle, Mrs. Jacques Heath (Lily May Peel)</td>\n",
       "      <td>female</td>\n",
       "      <td>35.0</td>\n",
       "      <td>1</td>\n",
       "      <td>0</td>\n",
       "      <td>113803</td>\n",
       "      <td>53.1000</td>\n",
       "      <td>S</td>\n",
       "    </tr>\n",
       "    <tr>\n",
       "      <th>4</th>\n",
       "      <td>5</td>\n",
       "      <td>0</td>\n",
       "      <td>3</td>\n",
       "      <td>Allen, Mr. William Henry</td>\n",
       "      <td>male</td>\n",
       "      <td>35.0</td>\n",
       "      <td>0</td>\n",
       "      <td>0</td>\n",
       "      <td>373450</td>\n",
       "      <td>8.0500</td>\n",
       "      <td>S</td>\n",
       "    </tr>\n",
       "  </tbody>\n",
       "</table>\n",
       "</div>"
      ],
      "text/plain": [
       "   PassengerId  Survived  Pclass  \\\n",
       "0            1         0       3   \n",
       "1            2         1       1   \n",
       "2            3         1       3   \n",
       "3            4         1       1   \n",
       "4            5         0       3   \n",
       "\n",
       "                                                Name     Sex   Age  SibSp  \\\n",
       "0                            Braund, Mr. Owen Harris    male  22.0      1   \n",
       "1  Cumings, Mrs. John Bradley (Florence Briggs Th...  female  38.0      1   \n",
       "2                             Heikkinen, Miss. Laina  female  26.0      0   \n",
       "3       Futrelle, Mrs. Jacques Heath (Lily May Peel)  female  35.0      1   \n",
       "4                           Allen, Mr. William Henry    male  35.0      0   \n",
       "\n",
       "   Parch            Ticket     Fare Embarked  \n",
       "0      0         A/5 21171   7.2500        S  \n",
       "1      0          PC 17599  71.2833        C  \n",
       "2      0  STON/O2. 3101282   7.9250        S  \n",
       "3      0            113803  53.1000        S  \n",
       "4      0            373450   8.0500        S  "
      ]
     },
     "execution_count": 4,
     "metadata": {},
     "output_type": "execute_result"
    }
   ],
   "source": [
    "df_titanic.head()"
   ]
  },
  {
   "cell_type": "code",
   "execution_count": 5,
   "metadata": {},
   "outputs": [
    {
     "name": "stdout",
     "output_type": "stream",
     "text": [
      "<class 'pandas.core.frame.DataFrame'>\n",
      "RangeIndex: 891 entries, 0 to 890\n",
      "Data columns (total 11 columns):\n",
      "PassengerId    891 non-null int64\n",
      "Survived       891 non-null int64\n",
      "Pclass         891 non-null int64\n",
      "Name           891 non-null object\n",
      "Sex            891 non-null object\n",
      "Age            714 non-null float64\n",
      "SibSp          891 non-null int64\n",
      "Parch          891 non-null int64\n",
      "Ticket         891 non-null object\n",
      "Fare           891 non-null float64\n",
      "Embarked       889 non-null object\n",
      "dtypes: float64(2), int64(5), object(4)\n",
      "memory usage: 76.6+ KB\n"
     ]
    }
   ],
   "source": [
    "df_titanic.info()"
   ]
  },
  {
   "cell_type": "markdown",
   "metadata": {},
   "source": [
    "## Depois de remover `Cabin`\n",
    "Vemos que os nomes das colunas estão fora do padrão do Python, nossa próxima limpeza é ajustá-los, e colocá-los todos em letra minúscula"
   ]
  },
  {
   "cell_type": "code",
   "execution_count": 6,
   "metadata": {},
   "outputs": [
    {
     "data": {
      "text/html": [
       "<div>\n",
       "<style scoped>\n",
       "    .dataframe tbody tr th:only-of-type {\n",
       "        vertical-align: middle;\n",
       "    }\n",
       "\n",
       "    .dataframe tbody tr th {\n",
       "        vertical-align: top;\n",
       "    }\n",
       "\n",
       "    .dataframe thead th {\n",
       "        text-align: right;\n",
       "    }\n",
       "</style>\n",
       "<table border=\"1\" class=\"dataframe\">\n",
       "  <thead>\n",
       "    <tr style=\"text-align: right;\">\n",
       "      <th></th>\n",
       "      <th>passengerid</th>\n",
       "      <th>survived</th>\n",
       "      <th>pclass</th>\n",
       "      <th>name</th>\n",
       "      <th>sex</th>\n",
       "      <th>age</th>\n",
       "      <th>sibsp</th>\n",
       "      <th>parch</th>\n",
       "      <th>ticket</th>\n",
       "      <th>fare</th>\n",
       "      <th>embarked</th>\n",
       "    </tr>\n",
       "  </thead>\n",
       "  <tbody>\n",
       "    <tr>\n",
       "      <th>0</th>\n",
       "      <td>1</td>\n",
       "      <td>0</td>\n",
       "      <td>3</td>\n",
       "      <td>Braund, Mr. Owen Harris</td>\n",
       "      <td>male</td>\n",
       "      <td>22.0</td>\n",
       "      <td>1</td>\n",
       "      <td>0</td>\n",
       "      <td>A/5 21171</td>\n",
       "      <td>7.25</td>\n",
       "      <td>S</td>\n",
       "    </tr>\n",
       "  </tbody>\n",
       "</table>\n",
       "</div>"
      ],
      "text/plain": [
       "   passengerid  survived  pclass                     name   sex   age  sibsp  \\\n",
       "0            1         0       3  Braund, Mr. Owen Harris  male  22.0      1   \n",
       "\n",
       "   parch     ticket  fare embarked  \n",
       "0      0  A/5 21171  7.25        S  "
      ]
     },
     "execution_count": 6,
     "metadata": {},
     "output_type": "execute_result"
    }
   ],
   "source": [
    "df_titanic.rename(columns=lambda x: x.strip().lower(), inplace=True)\n",
    "\n",
    "df_titanic.head(1)"
   ]
  },
  {
   "cell_type": "markdown",
   "metadata": {},
   "source": [
    "## Após consertar os nomes das colunas\n",
    "Vemos que ainda temos valores faltantes, tanto em `embarked` quanto em `age`, para `age` vamos preencher os valores com a média, que é uma prática como nesse tipo de dado, um float. No caso de `embarked`, como é uma string, vamos apenas retirar as linhas em que faltam os valores, como são apenas duas linhas, o impacto não vai ser grande na nosso análise."
   ]
  },
  {
   "cell_type": "code",
   "execution_count": 7,
   "metadata": {},
   "outputs": [],
   "source": [
    "mean = df_titanic['age'].mean()\n",
    "\n",
    "df_titanic['age'].fillna(mean, inplace=True)\n",
    "df_titanic.dropna(inplace=True)"
   ]
  },
  {
   "cell_type": "code",
   "execution_count": 8,
   "metadata": {},
   "outputs": [
    {
     "name": "stdout",
     "output_type": "stream",
     "text": [
      "<class 'pandas.core.frame.DataFrame'>\n",
      "Int64Index: 889 entries, 0 to 890\n",
      "Data columns (total 11 columns):\n",
      "passengerid    889 non-null int64\n",
      "survived       889 non-null int64\n",
      "pclass         889 non-null int64\n",
      "name           889 non-null object\n",
      "sex            889 non-null object\n",
      "age            889 non-null float64\n",
      "sibsp          889 non-null int64\n",
      "parch          889 non-null int64\n",
      "ticket         889 non-null object\n",
      "fare           889 non-null float64\n",
      "embarked       889 non-null object\n",
      "dtypes: float64(2), int64(5), object(4)\n",
      "memory usage: 83.3+ KB\n"
     ]
    }
   ],
   "source": [
    "df_titanic.info()"
   ]
  },
  {
   "cell_type": "markdown",
   "metadata": {},
   "source": [
    "## Limpeza completa\n",
    "Com o DataFrame.info() acima, vemos que não tem mais nenhuma linha com dados faltantes, e todos os dados que vamos analisar e fazer perguntas, estão com seu tipo certo para análise.\n",
    "\n",
    "Abaixo temos alguns dados descritivos do nosso conjunto de dados."
   ]
  },
  {
   "cell_type": "code",
   "execution_count": 9,
   "metadata": {},
   "outputs": [
    {
     "data": {
      "text/html": [
       "<div>\n",
       "<style scoped>\n",
       "    .dataframe tbody tr th:only-of-type {\n",
       "        vertical-align: middle;\n",
       "    }\n",
       "\n",
       "    .dataframe tbody tr th {\n",
       "        vertical-align: top;\n",
       "    }\n",
       "\n",
       "    .dataframe thead tr th {\n",
       "        text-align: left;\n",
       "    }\n",
       "\n",
       "    .dataframe thead tr:last-of-type th {\n",
       "        text-align: right;\n",
       "    }\n",
       "</style>\n",
       "<table border=\"1\" class=\"dataframe\">\n",
       "  <thead>\n",
       "    <tr>\n",
       "      <th></th>\n",
       "      <th colspan=\"8\" halign=\"left\">age</th>\n",
       "      <th colspan=\"2\" halign=\"left\">fare</th>\n",
       "      <th>...</th>\n",
       "      <th colspan=\"2\" halign=\"left\">sibsp</th>\n",
       "      <th colspan=\"8\" halign=\"left\">survived</th>\n",
       "    </tr>\n",
       "    <tr>\n",
       "      <th></th>\n",
       "      <th>count</th>\n",
       "      <th>mean</th>\n",
       "      <th>std</th>\n",
       "      <th>min</th>\n",
       "      <th>25%</th>\n",
       "      <th>50%</th>\n",
       "      <th>75%</th>\n",
       "      <th>max</th>\n",
       "      <th>count</th>\n",
       "      <th>mean</th>\n",
       "      <th>...</th>\n",
       "      <th>75%</th>\n",
       "      <th>max</th>\n",
       "      <th>count</th>\n",
       "      <th>mean</th>\n",
       "      <th>std</th>\n",
       "      <th>min</th>\n",
       "      <th>25%</th>\n",
       "      <th>50%</th>\n",
       "      <th>75%</th>\n",
       "      <th>max</th>\n",
       "    </tr>\n",
       "    <tr>\n",
       "      <th>sex</th>\n",
       "      <th></th>\n",
       "      <th></th>\n",
       "      <th></th>\n",
       "      <th></th>\n",
       "      <th></th>\n",
       "      <th></th>\n",
       "      <th></th>\n",
       "      <th></th>\n",
       "      <th></th>\n",
       "      <th></th>\n",
       "      <th></th>\n",
       "      <th></th>\n",
       "      <th></th>\n",
       "      <th></th>\n",
       "      <th></th>\n",
       "      <th></th>\n",
       "      <th></th>\n",
       "      <th></th>\n",
       "      <th></th>\n",
       "      <th></th>\n",
       "      <th></th>\n",
       "    </tr>\n",
       "  </thead>\n",
       "  <tbody>\n",
       "    <tr>\n",
       "      <th>female</th>\n",
       "      <td>312.0</td>\n",
       "      <td>28.077094</td>\n",
       "      <td>12.763245</td>\n",
       "      <td>0.75</td>\n",
       "      <td>21.0</td>\n",
       "      <td>29.699118</td>\n",
       "      <td>35.0</td>\n",
       "      <td>63.0</td>\n",
       "      <td>312.0</td>\n",
       "      <td>44.252124</td>\n",
       "      <td>...</td>\n",
       "      <td>1.0</td>\n",
       "      <td>8.0</td>\n",
       "      <td>312.0</td>\n",
       "      <td>0.740385</td>\n",
       "      <td>0.439128</td>\n",
       "      <td>0.0</td>\n",
       "      <td>0.0</td>\n",
       "      <td>1.0</td>\n",
       "      <td>1.0</td>\n",
       "      <td>1.0</td>\n",
       "    </tr>\n",
       "    <tr>\n",
       "      <th>male</th>\n",
       "      <td>577.0</td>\n",
       "      <td>30.505824</td>\n",
       "      <td>13.009478</td>\n",
       "      <td>0.42</td>\n",
       "      <td>23.0</td>\n",
       "      <td>29.699118</td>\n",
       "      <td>35.0</td>\n",
       "      <td>80.0</td>\n",
       "      <td>577.0</td>\n",
       "      <td>25.523893</td>\n",
       "      <td>...</td>\n",
       "      <td>0.0</td>\n",
       "      <td>8.0</td>\n",
       "      <td>577.0</td>\n",
       "      <td>0.188908</td>\n",
       "      <td>0.391775</td>\n",
       "      <td>0.0</td>\n",
       "      <td>0.0</td>\n",
       "      <td>0.0</td>\n",
       "      <td>0.0</td>\n",
       "      <td>1.0</td>\n",
       "    </tr>\n",
       "  </tbody>\n",
       "</table>\n",
       "<p>2 rows × 56 columns</p>\n",
       "</div>"
      ],
      "text/plain": [
       "          age                                                            fare  \\\n",
       "        count       mean        std   min   25%        50%   75%   max  count   \n",
       "sex                                                                             \n",
       "female  312.0  28.077094  12.763245  0.75  21.0  29.699118  35.0  63.0  312.0   \n",
       "male    577.0  30.505824  13.009478  0.42  23.0  29.699118  35.0  80.0  577.0   \n",
       "\n",
       "                  ...  sibsp      survived                                     \\\n",
       "             mean ...    75%  max    count      mean       std  min  25%  50%   \n",
       "sex               ...                                                           \n",
       "female  44.252124 ...    1.0  8.0    312.0  0.740385  0.439128  0.0  0.0  1.0   \n",
       "male    25.523893 ...    0.0  8.0    577.0  0.188908  0.391775  0.0  0.0  0.0   \n",
       "\n",
       "                  \n",
       "        75%  max  \n",
       "sex               \n",
       "female  1.0  1.0  \n",
       "male    0.0  1.0  \n",
       "\n",
       "[2 rows x 56 columns]"
      ]
     },
     "execution_count": 9,
     "metadata": {},
     "output_type": "execute_result"
    }
   ],
   "source": [
    "df_titanic.groupby('sex').describe()"
   ]
  },
  {
   "cell_type": "markdown",
   "metadata": {},
   "source": [
    "2. Quantas mulheres havia a bordo do navio? \n",
    "R: 312 mulheres\n",
    "3. Quantos homens havia a bordo do navio?\n",
    "R: 577 homens\n",
    "4. Qual a média das idades das mulheres? \n",
    "R: 28.07 anos\n",
    "5. Qual a média das idades dos homens? \n",
    "R: 30.50 anos\n",
    "6. Qual a idade da mulher mais idosa?\n",
    "R: 63 anos\n",
    "7. Qual a idade do homem mais idoso? \n",
    "R: 80 anos"
   ]
  },
  {
   "cell_type": "code",
   "execution_count": 10,
   "metadata": {},
   "outputs": [
    {
     "data": {
      "text/html": [
       "<div>\n",
       "<style scoped>\n",
       "    .dataframe tbody tr th:only-of-type {\n",
       "        vertical-align: middle;\n",
       "    }\n",
       "\n",
       "    .dataframe tbody tr th {\n",
       "        vertical-align: top;\n",
       "    }\n",
       "\n",
       "    .dataframe thead tr th {\n",
       "        text-align: left;\n",
       "    }\n",
       "\n",
       "    .dataframe thead tr:last-of-type th {\n",
       "        text-align: right;\n",
       "    }\n",
       "</style>\n",
       "<table border=\"1\" class=\"dataframe\">\n",
       "  <thead>\n",
       "    <tr>\n",
       "      <th></th>\n",
       "      <th></th>\n",
       "      <th colspan=\"8\" halign=\"left\">age</th>\n",
       "      <th colspan=\"2\" halign=\"left\">fare</th>\n",
       "      <th>...</th>\n",
       "      <th colspan=\"2\" halign=\"left\">sibsp</th>\n",
       "      <th colspan=\"8\" halign=\"left\">survived</th>\n",
       "    </tr>\n",
       "    <tr>\n",
       "      <th></th>\n",
       "      <th></th>\n",
       "      <th>count</th>\n",
       "      <th>mean</th>\n",
       "      <th>std</th>\n",
       "      <th>min</th>\n",
       "      <th>25%</th>\n",
       "      <th>50%</th>\n",
       "      <th>75%</th>\n",
       "      <th>max</th>\n",
       "      <th>count</th>\n",
       "      <th>mean</th>\n",
       "      <th>...</th>\n",
       "      <th>75%</th>\n",
       "      <th>max</th>\n",
       "      <th>count</th>\n",
       "      <th>mean</th>\n",
       "      <th>std</th>\n",
       "      <th>min</th>\n",
       "      <th>25%</th>\n",
       "      <th>50%</th>\n",
       "      <th>75%</th>\n",
       "      <th>max</th>\n",
       "    </tr>\n",
       "    <tr>\n",
       "      <th>pclass</th>\n",
       "      <th>sex</th>\n",
       "      <th></th>\n",
       "      <th></th>\n",
       "      <th></th>\n",
       "      <th></th>\n",
       "      <th></th>\n",
       "      <th></th>\n",
       "      <th></th>\n",
       "      <th></th>\n",
       "      <th></th>\n",
       "      <th></th>\n",
       "      <th></th>\n",
       "      <th></th>\n",
       "      <th></th>\n",
       "      <th></th>\n",
       "      <th></th>\n",
       "      <th></th>\n",
       "      <th></th>\n",
       "      <th></th>\n",
       "      <th></th>\n",
       "      <th></th>\n",
       "      <th></th>\n",
       "    </tr>\n",
       "  </thead>\n",
       "  <tbody>\n",
       "    <tr>\n",
       "      <th rowspan=\"2\" valign=\"top\">1</th>\n",
       "      <th>female</th>\n",
       "      <td>92.0</td>\n",
       "      <td>33.796653</td>\n",
       "      <td>12.821117</td>\n",
       "      <td>2.00</td>\n",
       "      <td>24.000000</td>\n",
       "      <td>31.500000</td>\n",
       "      <td>42.250000</td>\n",
       "      <td>63.0</td>\n",
       "      <td>92.0</td>\n",
       "      <td>106.693750</td>\n",
       "      <td>...</td>\n",
       "      <td>1.0</td>\n",
       "      <td>3.0</td>\n",
       "      <td>92.0</td>\n",
       "      <td>0.967391</td>\n",
       "      <td>0.178583</td>\n",
       "      <td>0.0</td>\n",
       "      <td>1.0</td>\n",
       "      <td>1.0</td>\n",
       "      <td>1.0</td>\n",
       "      <td>1.0</td>\n",
       "    </tr>\n",
       "    <tr>\n",
       "      <th>male</th>\n",
       "      <td>122.0</td>\n",
       "      <td>39.287717</td>\n",
       "      <td>14.446502</td>\n",
       "      <td>0.92</td>\n",
       "      <td>29.699118</td>\n",
       "      <td>36.000000</td>\n",
       "      <td>49.000000</td>\n",
       "      <td>80.0</td>\n",
       "      <td>122.0</td>\n",
       "      <td>67.226127</td>\n",
       "      <td>...</td>\n",
       "      <td>1.0</td>\n",
       "      <td>3.0</td>\n",
       "      <td>122.0</td>\n",
       "      <td>0.368852</td>\n",
       "      <td>0.484484</td>\n",
       "      <td>0.0</td>\n",
       "      <td>0.0</td>\n",
       "      <td>0.0</td>\n",
       "      <td>1.0</td>\n",
       "      <td>1.0</td>\n",
       "    </tr>\n",
       "    <tr>\n",
       "      <th rowspan=\"2\" valign=\"top\">2</th>\n",
       "      <th>female</th>\n",
       "      <td>76.0</td>\n",
       "      <td>28.748661</td>\n",
       "      <td>12.700880</td>\n",
       "      <td>2.00</td>\n",
       "      <td>22.750000</td>\n",
       "      <td>28.500000</td>\n",
       "      <td>36.000000</td>\n",
       "      <td>57.0</td>\n",
       "      <td>76.0</td>\n",
       "      <td>21.970121</td>\n",
       "      <td>...</td>\n",
       "      <td>1.0</td>\n",
       "      <td>3.0</td>\n",
       "      <td>76.0</td>\n",
       "      <td>0.921053</td>\n",
       "      <td>0.271448</td>\n",
       "      <td>0.0</td>\n",
       "      <td>1.0</td>\n",
       "      <td>1.0</td>\n",
       "      <td>1.0</td>\n",
       "      <td>1.0</td>\n",
       "    </tr>\n",
       "    <tr>\n",
       "      <th>male</th>\n",
       "      <td>108.0</td>\n",
       "      <td>30.653908</td>\n",
       "      <td>14.161010</td>\n",
       "      <td>0.67</td>\n",
       "      <td>23.000000</td>\n",
       "      <td>29.699118</td>\n",
       "      <td>36.000000</td>\n",
       "      <td>70.0</td>\n",
       "      <td>108.0</td>\n",
       "      <td>19.741782</td>\n",
       "      <td>...</td>\n",
       "      <td>1.0</td>\n",
       "      <td>2.0</td>\n",
       "      <td>108.0</td>\n",
       "      <td>0.157407</td>\n",
       "      <td>0.365882</td>\n",
       "      <td>0.0</td>\n",
       "      <td>0.0</td>\n",
       "      <td>0.0</td>\n",
       "      <td>0.0</td>\n",
       "      <td>1.0</td>\n",
       "    </tr>\n",
       "    <tr>\n",
       "      <th rowspan=\"2\" valign=\"top\">3</th>\n",
       "      <th>female</th>\n",
       "      <td>144.0</td>\n",
       "      <td>24.068493</td>\n",
       "      <td>11.296112</td>\n",
       "      <td>0.75</td>\n",
       "      <td>18.000000</td>\n",
       "      <td>28.000000</td>\n",
       "      <td>29.699118</td>\n",
       "      <td>63.0</td>\n",
       "      <td>144.0</td>\n",
       "      <td>16.118810</td>\n",
       "      <td>...</td>\n",
       "      <td>1.0</td>\n",
       "      <td>8.0</td>\n",
       "      <td>144.0</td>\n",
       "      <td>0.500000</td>\n",
       "      <td>0.501745</td>\n",
       "      <td>0.0</td>\n",
       "      <td>0.0</td>\n",
       "      <td>0.5</td>\n",
       "      <td>1.0</td>\n",
       "      <td>1.0</td>\n",
       "    </tr>\n",
       "    <tr>\n",
       "      <th>male</th>\n",
       "      <td>347.0</td>\n",
       "      <td>27.372153</td>\n",
       "      <td>10.473922</td>\n",
       "      <td>0.42</td>\n",
       "      <td>21.000000</td>\n",
       "      <td>29.699118</td>\n",
       "      <td>30.000000</td>\n",
       "      <td>74.0</td>\n",
       "      <td>347.0</td>\n",
       "      <td>12.661633</td>\n",
       "      <td>...</td>\n",
       "      <td>0.0</td>\n",
       "      <td>8.0</td>\n",
       "      <td>347.0</td>\n",
       "      <td>0.135447</td>\n",
       "      <td>0.342694</td>\n",
       "      <td>0.0</td>\n",
       "      <td>0.0</td>\n",
       "      <td>0.0</td>\n",
       "      <td>0.0</td>\n",
       "      <td>1.0</td>\n",
       "    </tr>\n",
       "  </tbody>\n",
       "</table>\n",
       "<p>6 rows × 48 columns</p>\n",
       "</div>"
      ],
      "text/plain": [
       "                 age                                                    \\\n",
       "               count       mean        std   min        25%        50%   \n",
       "pclass sex                                                               \n",
       "1      female   92.0  33.796653  12.821117  2.00  24.000000  31.500000   \n",
       "       male    122.0  39.287717  14.446502  0.92  29.699118  36.000000   \n",
       "2      female   76.0  28.748661  12.700880  2.00  22.750000  28.500000   \n",
       "       male    108.0  30.653908  14.161010  0.67  23.000000  29.699118   \n",
       "3      female  144.0  24.068493  11.296112  0.75  18.000000  28.000000   \n",
       "       male    347.0  27.372153  10.473922  0.42  21.000000  29.699118   \n",
       "\n",
       "                                 fare             ...  sibsp      survived  \\\n",
       "                     75%   max  count        mean ...    75%  max    count   \n",
       "pclass sex                                        ...                        \n",
       "1      female  42.250000  63.0   92.0  106.693750 ...    1.0  3.0     92.0   \n",
       "       male    49.000000  80.0  122.0   67.226127 ...    1.0  3.0    122.0   \n",
       "2      female  36.000000  57.0   76.0   21.970121 ...    1.0  3.0     76.0   \n",
       "       male    36.000000  70.0  108.0   19.741782 ...    1.0  2.0    108.0   \n",
       "3      female  29.699118  63.0  144.0   16.118810 ...    1.0  8.0    144.0   \n",
       "       male    30.000000  74.0  347.0   12.661633 ...    0.0  8.0    347.0   \n",
       "\n",
       "                                                            \n",
       "                   mean       std  min  25%  50%  75%  max  \n",
       "pclass sex                                                  \n",
       "1      female  0.967391  0.178583  0.0  1.0  1.0  1.0  1.0  \n",
       "       male    0.368852  0.484484  0.0  0.0  0.0  1.0  1.0  \n",
       "2      female  0.921053  0.271448  0.0  1.0  1.0  1.0  1.0  \n",
       "       male    0.157407  0.365882  0.0  0.0  0.0  0.0  1.0  \n",
       "3      female  0.500000  0.501745  0.0  0.0  0.5  1.0  1.0  \n",
       "       male    0.135447  0.342694  0.0  0.0  0.0  0.0  1.0  \n",
       "\n",
       "[6 rows x 48 columns]"
      ]
     },
     "execution_count": 10,
     "metadata": {},
     "output_type": "execute_result"
    }
   ],
   "source": [
    "df_titanic.groupby(['pclass', 'sex']).describe()"
   ]
  },
  {
   "cell_type": "markdown",
   "metadata": {},
   "source": [
    "1. Quantos passageiros havia em cada classe do navio? \n",
    "\n",
    "R: 1ª classe - 214.0, 2ª classe - 184.0, 3ª classe - 491.0\n",
    "\n",
    "8. Quantas mulheres havia em cada classe do navio?\n",
    "\n",
    "R: 1ª classe - 92.0, 2ª classe - 76.0, 3ª classe - 144.0\n",
    "\n",
    "9. Quantos homens havia em cada classe do navio?\n",
    "\n",
    "R: 1ª classe - 122.0, 2ª classe - 108.0, 3ª classe - 347.0\n",
    "\n",
    "10. Qual a média de idade das mulheres em cada classe do navio?\n",
    "\n",
    "R: 1ª classe - 33.796653, 2ª classe - 28.748661, 3ª classe - 24.068493\n",
    "\n",
    "11. Qual a média de idade dos homens em cada classe do navio?\n",
    "\n",
    "R: 1ª classe - 39.287717, 2ª classe - 30.653908, 3ª classe - 27.372153\n",
    "\n",
    "12. Qual o valor médio do tíquete para cada classe?\n",
    "\n",
    "R: 1ª classe - 84.193516, 2ª classe - 20.662183, 3ª classe - 13.675550"
   ]
  },
  {
   "cell_type": "code",
   "execution_count": 11,
   "metadata": {},
   "outputs": [
    {
     "data": {
      "text/html": [
       "<div>\n",
       "<style scoped>\n",
       "    .dataframe tbody tr th:only-of-type {\n",
       "        vertical-align: middle;\n",
       "    }\n",
       "\n",
       "    .dataframe tbody tr th {\n",
       "        vertical-align: top;\n",
       "    }\n",
       "\n",
       "    .dataframe thead tr th {\n",
       "        text-align: left;\n",
       "    }\n",
       "\n",
       "    .dataframe thead tr:last-of-type th {\n",
       "        text-align: right;\n",
       "    }\n",
       "</style>\n",
       "<table border=\"1\" class=\"dataframe\">\n",
       "  <thead>\n",
       "    <tr>\n",
       "      <th></th>\n",
       "      <th colspan=\"8\" halign=\"left\">age</th>\n",
       "      <th colspan=\"2\" halign=\"left\">fare</th>\n",
       "      <th>...</th>\n",
       "      <th colspan=\"2\" halign=\"left\">pclass</th>\n",
       "      <th colspan=\"8\" halign=\"left\">sibsp</th>\n",
       "    </tr>\n",
       "    <tr>\n",
       "      <th></th>\n",
       "      <th>count</th>\n",
       "      <th>mean</th>\n",
       "      <th>std</th>\n",
       "      <th>min</th>\n",
       "      <th>25%</th>\n",
       "      <th>50%</th>\n",
       "      <th>75%</th>\n",
       "      <th>max</th>\n",
       "      <th>count</th>\n",
       "      <th>mean</th>\n",
       "      <th>...</th>\n",
       "      <th>75%</th>\n",
       "      <th>max</th>\n",
       "      <th>count</th>\n",
       "      <th>mean</th>\n",
       "      <th>std</th>\n",
       "      <th>min</th>\n",
       "      <th>25%</th>\n",
       "      <th>50%</th>\n",
       "      <th>75%</th>\n",
       "      <th>max</th>\n",
       "    </tr>\n",
       "    <tr>\n",
       "      <th>survived</th>\n",
       "      <th></th>\n",
       "      <th></th>\n",
       "      <th></th>\n",
       "      <th></th>\n",
       "      <th></th>\n",
       "      <th></th>\n",
       "      <th></th>\n",
       "      <th></th>\n",
       "      <th></th>\n",
       "      <th></th>\n",
       "      <th></th>\n",
       "      <th></th>\n",
       "      <th></th>\n",
       "      <th></th>\n",
       "      <th></th>\n",
       "      <th></th>\n",
       "      <th></th>\n",
       "      <th></th>\n",
       "      <th></th>\n",
       "      <th></th>\n",
       "      <th></th>\n",
       "    </tr>\n",
       "  </thead>\n",
       "  <tbody>\n",
       "    <tr>\n",
       "      <th>0</th>\n",
       "      <td>549.0</td>\n",
       "      <td>30.4151</td>\n",
       "      <td>12.457370</td>\n",
       "      <td>1.00</td>\n",
       "      <td>23.0</td>\n",
       "      <td>29.699118</td>\n",
       "      <td>35.0</td>\n",
       "      <td>74.0</td>\n",
       "      <td>549.0</td>\n",
       "      <td>22.117887</td>\n",
       "      <td>...</td>\n",
       "      <td>3.0</td>\n",
       "      <td>3.0</td>\n",
       "      <td>549.0</td>\n",
       "      <td>0.553734</td>\n",
       "      <td>1.288399</td>\n",
       "      <td>0.0</td>\n",
       "      <td>0.0</td>\n",
       "      <td>0.0</td>\n",
       "      <td>1.0</td>\n",
       "      <td>8.0</td>\n",
       "    </tr>\n",
       "    <tr>\n",
       "      <th>1</th>\n",
       "      <td>340.0</td>\n",
       "      <td>28.4236</td>\n",
       "      <td>13.682862</td>\n",
       "      <td>0.42</td>\n",
       "      <td>21.0</td>\n",
       "      <td>29.699118</td>\n",
       "      <td>35.0</td>\n",
       "      <td>80.0</td>\n",
       "      <td>340.0</td>\n",
       "      <td>48.209498</td>\n",
       "      <td>...</td>\n",
       "      <td>3.0</td>\n",
       "      <td>3.0</td>\n",
       "      <td>340.0</td>\n",
       "      <td>0.476471</td>\n",
       "      <td>0.709838</td>\n",
       "      <td>0.0</td>\n",
       "      <td>0.0</td>\n",
       "      <td>0.0</td>\n",
       "      <td>1.0</td>\n",
       "      <td>4.0</td>\n",
       "    </tr>\n",
       "  </tbody>\n",
       "</table>\n",
       "<p>2 rows × 48 columns</p>\n",
       "</div>"
      ],
      "text/plain": [
       "            age                                                          fare  \\\n",
       "          count     mean        std   min   25%        50%   75%   max  count   \n",
       "survived                                                                        \n",
       "0         549.0  30.4151  12.457370  1.00  23.0  29.699118  35.0  74.0  549.0   \n",
       "1         340.0  28.4236  13.682862  0.42  21.0  29.699118  35.0  80.0  340.0   \n",
       "\n",
       "                    ...  pclass       sibsp                                \\\n",
       "               mean ...     75%  max  count      mean       std  min  25%   \n",
       "survived            ...                                                     \n",
       "0         22.117887 ...     3.0  3.0  549.0  0.553734  1.288399  0.0  0.0   \n",
       "1         48.209498 ...     3.0  3.0  340.0  0.476471  0.709838  0.0  0.0   \n",
       "\n",
       "                         \n",
       "          50%  75%  max  \n",
       "survived                 \n",
       "0         0.0  1.0  8.0  \n",
       "1         0.0  1.0  4.0  \n",
       "\n",
       "[2 rows x 48 columns]"
      ]
     },
     "execution_count": 11,
     "metadata": {},
     "output_type": "execute_result"
    }
   ],
   "source": [
    "df_titanic.groupby('survived').describe()"
   ]
  },
  {
   "cell_type": "markdown",
   "metadata": {},
   "source": [
    "13. Qual a idade média dos sobreviventes do naufrágio?\n",
    "\n",
    "R: 28.4236 anos\n",
    "\n",
    "14. Qual a idade média das vítimas do naufrágio?\n",
    "\n",
    "R: 30.4151 anos\n",
    "\n",
    "15. Qual a idade do sobrevivente mais novo?\n",
    "\n",
    "R: Menos de 1 ano\n",
    "\n",
    "16. Qual a idade da vítima mais nova?\n",
    "\n",
    "R: 1 ano\n",
    "\n",
    "17. Qual a idade do sobrevivente mais idoso?\n",
    "\n",
    "R: 80 anos\n",
    "\n",
    "18. Qual a idade da vítima mais idosa?\n",
    "\n",
    "R: 74 anos"
   ]
  },
  {
   "cell_type": "code",
   "execution_count": 12,
   "metadata": {},
   "outputs": [
    {
     "data": {
      "text/html": [
       "<div>\n",
       "<style scoped>\n",
       "    .dataframe tbody tr th:only-of-type {\n",
       "        vertical-align: middle;\n",
       "    }\n",
       "\n",
       "    .dataframe tbody tr th {\n",
       "        vertical-align: top;\n",
       "    }\n",
       "\n",
       "    .dataframe thead tr th {\n",
       "        text-align: left;\n",
       "    }\n",
       "\n",
       "    .dataframe thead tr:last-of-type th {\n",
       "        text-align: right;\n",
       "    }\n",
       "</style>\n",
       "<table border=\"1\" class=\"dataframe\">\n",
       "  <thead>\n",
       "    <tr>\n",
       "      <th></th>\n",
       "      <th></th>\n",
       "      <th colspan=\"8\" halign=\"left\">age</th>\n",
       "      <th colspan=\"2\" halign=\"left\">fare</th>\n",
       "      <th>...</th>\n",
       "      <th colspan=\"2\" halign=\"left\">passengerid</th>\n",
       "      <th colspan=\"8\" halign=\"left\">sibsp</th>\n",
       "    </tr>\n",
       "    <tr>\n",
       "      <th></th>\n",
       "      <th></th>\n",
       "      <th>count</th>\n",
       "      <th>mean</th>\n",
       "      <th>std</th>\n",
       "      <th>min</th>\n",
       "      <th>25%</th>\n",
       "      <th>50%</th>\n",
       "      <th>75%</th>\n",
       "      <th>max</th>\n",
       "      <th>count</th>\n",
       "      <th>mean</th>\n",
       "      <th>...</th>\n",
       "      <th>75%</th>\n",
       "      <th>max</th>\n",
       "      <th>count</th>\n",
       "      <th>mean</th>\n",
       "      <th>std</th>\n",
       "      <th>min</th>\n",
       "      <th>25%</th>\n",
       "      <th>50%</th>\n",
       "      <th>75%</th>\n",
       "      <th>max</th>\n",
       "    </tr>\n",
       "    <tr>\n",
       "      <th>pclass</th>\n",
       "      <th>survived</th>\n",
       "      <th></th>\n",
       "      <th></th>\n",
       "      <th></th>\n",
       "      <th></th>\n",
       "      <th></th>\n",
       "      <th></th>\n",
       "      <th></th>\n",
       "      <th></th>\n",
       "      <th></th>\n",
       "      <th></th>\n",
       "      <th></th>\n",
       "      <th></th>\n",
       "      <th></th>\n",
       "      <th></th>\n",
       "      <th></th>\n",
       "      <th></th>\n",
       "      <th></th>\n",
       "      <th></th>\n",
       "      <th></th>\n",
       "      <th></th>\n",
       "      <th></th>\n",
       "    </tr>\n",
       "  </thead>\n",
       "  <tbody>\n",
       "    <tr>\n",
       "      <th rowspan=\"2\" valign=\"top\">1</th>\n",
       "      <th>0</th>\n",
       "      <td>80.0</td>\n",
       "      <td>40.896074</td>\n",
       "      <td>14.766000</td>\n",
       "      <td>2.00</td>\n",
       "      <td>29.699118</td>\n",
       "      <td>38.500000</td>\n",
       "      <td>51.250000</td>\n",
       "      <td>71.0</td>\n",
       "      <td>80.0</td>\n",
       "      <td>64.684008</td>\n",
       "      <td>...</td>\n",
       "      <td>608.75</td>\n",
       "      <td>873.0</td>\n",
       "      <td>80.0</td>\n",
       "      <td>0.287500</td>\n",
       "      <td>0.555610</td>\n",
       "      <td>0.0</td>\n",
       "      <td>0.0</td>\n",
       "      <td>0.0</td>\n",
       "      <td>0.25</td>\n",
       "      <td>3.0</td>\n",
       "    </tr>\n",
       "    <tr>\n",
       "      <th>1</th>\n",
       "      <td>134.0</td>\n",
       "      <td>34.557520</td>\n",
       "      <td>13.022711</td>\n",
       "      <td>0.92</td>\n",
       "      <td>26.000000</td>\n",
       "      <td>33.000000</td>\n",
       "      <td>42.750000</td>\n",
       "      <td>80.0</td>\n",
       "      <td>134.0</td>\n",
       "      <td>95.840984</td>\n",
       "      <td>...</td>\n",
       "      <td>690.75</td>\n",
       "      <td>890.0</td>\n",
       "      <td>134.0</td>\n",
       "      <td>0.500000</td>\n",
       "      <td>0.634236</td>\n",
       "      <td>0.0</td>\n",
       "      <td>0.0</td>\n",
       "      <td>0.0</td>\n",
       "      <td>1.00</td>\n",
       "      <td>3.0</td>\n",
       "    </tr>\n",
       "    <tr>\n",
       "      <th rowspan=\"2\" valign=\"top\">2</th>\n",
       "      <th>0</th>\n",
       "      <td>97.0</td>\n",
       "      <td>33.266947</td>\n",
       "      <td>11.742843</td>\n",
       "      <td>16.00</td>\n",
       "      <td>25.000000</td>\n",
       "      <td>30.000000</td>\n",
       "      <td>38.000000</td>\n",
       "      <td>70.0</td>\n",
       "      <td>97.0</td>\n",
       "      <td>19.412328</td>\n",
       "      <td>...</td>\n",
       "      <td>686.00</td>\n",
       "      <td>887.0</td>\n",
       "      <td>97.0</td>\n",
       "      <td>0.319588</td>\n",
       "      <td>0.550500</td>\n",
       "      <td>0.0</td>\n",
       "      <td>0.0</td>\n",
       "      <td>0.0</td>\n",
       "      <td>1.00</td>\n",
       "      <td>2.0</td>\n",
       "    </tr>\n",
       "    <tr>\n",
       "      <th>1</th>\n",
       "      <td>87.0</td>\n",
       "      <td>26.076166</td>\n",
       "      <td>14.510680</td>\n",
       "      <td>0.67</td>\n",
       "      <td>18.000000</td>\n",
       "      <td>28.000000</td>\n",
       "      <td>34.000000</td>\n",
       "      <td>62.0</td>\n",
       "      <td>87.0</td>\n",
       "      <td>22.055700</td>\n",
       "      <td>...</td>\n",
       "      <td>612.50</td>\n",
       "      <td>881.0</td>\n",
       "      <td>87.0</td>\n",
       "      <td>0.494253</td>\n",
       "      <td>0.644720</td>\n",
       "      <td>0.0</td>\n",
       "      <td>0.0</td>\n",
       "      <td>0.0</td>\n",
       "      <td>1.00</td>\n",
       "      <td>3.0</td>\n",
       "    </tr>\n",
       "    <tr>\n",
       "      <th rowspan=\"2\" valign=\"top\">3</th>\n",
       "      <th>0</th>\n",
       "      <td>372.0</td>\n",
       "      <td>27.417500</td>\n",
       "      <td>10.596718</td>\n",
       "      <td>1.00</td>\n",
       "      <td>21.000000</td>\n",
       "      <td>29.699118</td>\n",
       "      <td>30.000000</td>\n",
       "      <td>74.0</td>\n",
       "      <td>372.0</td>\n",
       "      <td>13.669364</td>\n",
       "      <td>...</td>\n",
       "      <td>679.50</td>\n",
       "      <td>891.0</td>\n",
       "      <td>372.0</td>\n",
       "      <td>0.672043</td>\n",
       "      <td>1.504700</td>\n",
       "      <td>0.0</td>\n",
       "      <td>0.0</td>\n",
       "      <td>0.0</td>\n",
       "      <td>1.00</td>\n",
       "      <td>8.0</td>\n",
       "    </tr>\n",
       "    <tr>\n",
       "      <th>1</th>\n",
       "      <td>119.0</td>\n",
       "      <td>23.232689</td>\n",
       "      <td>10.922065</td>\n",
       "      <td>0.42</td>\n",
       "      <td>18.000000</td>\n",
       "      <td>27.000000</td>\n",
       "      <td>29.699118</td>\n",
       "      <td>63.0</td>\n",
       "      <td>119.0</td>\n",
       "      <td>13.694887</td>\n",
       "      <td>...</td>\n",
       "      <td>633.50</td>\n",
       "      <td>876.0</td>\n",
       "      <td>119.0</td>\n",
       "      <td>0.436975</td>\n",
       "      <td>0.829934</td>\n",
       "      <td>0.0</td>\n",
       "      <td>0.0</td>\n",
       "      <td>0.0</td>\n",
       "      <td>1.00</td>\n",
       "      <td>4.0</td>\n",
       "    </tr>\n",
       "  </tbody>\n",
       "</table>\n",
       "<p>6 rows × 40 columns</p>\n",
       "</div>"
      ],
      "text/plain": [
       "                   age                                                     \\\n",
       "                 count       mean        std    min        25%        50%   \n",
       "pclass survived                                                             \n",
       "1      0          80.0  40.896074  14.766000   2.00  29.699118  38.500000   \n",
       "       1         134.0  34.557520  13.022711   0.92  26.000000  33.000000   \n",
       "2      0          97.0  33.266947  11.742843  16.00  25.000000  30.000000   \n",
       "       1          87.0  26.076166  14.510680   0.67  18.000000  28.000000   \n",
       "3      0         372.0  27.417500  10.596718   1.00  21.000000  29.699118   \n",
       "       1         119.0  23.232689  10.922065   0.42  18.000000  27.000000   \n",
       "\n",
       "                                   fare            ...  passengerid         \\\n",
       "                       75%   max  count       mean ...          75%    max   \n",
       "pclass survived                                    ...                       \n",
       "1      0         51.250000  71.0   80.0  64.684008 ...       608.75  873.0   \n",
       "       1         42.750000  80.0  134.0  95.840984 ...       690.75  890.0   \n",
       "2      0         38.000000  70.0   97.0  19.412328 ...       686.00  887.0   \n",
       "       1         34.000000  62.0   87.0  22.055700 ...       612.50  881.0   \n",
       "3      0         30.000000  74.0  372.0  13.669364 ...       679.50  891.0   \n",
       "       1         29.699118  63.0  119.0  13.694887 ...       633.50  876.0   \n",
       "\n",
       "                 sibsp                                                \n",
       "                 count      mean       std  min  25%  50%   75%  max  \n",
       "pclass survived                                                       \n",
       "1      0          80.0  0.287500  0.555610  0.0  0.0  0.0  0.25  3.0  \n",
       "       1         134.0  0.500000  0.634236  0.0  0.0  0.0  1.00  3.0  \n",
       "2      0          97.0  0.319588  0.550500  0.0  0.0  0.0  1.00  2.0  \n",
       "       1          87.0  0.494253  0.644720  0.0  0.0  0.0  1.00  3.0  \n",
       "3      0         372.0  0.672043  1.504700  0.0  0.0  0.0  1.00  8.0  \n",
       "       1         119.0  0.436975  0.829934  0.0  0.0  0.0  1.00  4.0  \n",
       "\n",
       "[6 rows x 40 columns]"
      ]
     },
     "execution_count": 12,
     "metadata": {},
     "output_type": "execute_result"
    }
   ],
   "source": [
    "df_titanic.groupby(['pclass', 'survived']).describe()"
   ]
  },
  {
   "cell_type": "markdown",
   "metadata": {},
   "source": [
    "19. Qual o valor médio dos tíquetes de sobreviventes em cada classe do navio?\n",
    "\n",
    "R: 1ª classe - 95.840984, 2ª classe - 22.055700\t, 3ª classe - 13.694887\n",
    "\n",
    "20. Qual o valor médio dos tíquetes das vítimas em cada classe do navio?\n",
    "\n",
    "R: 1ª classe - 64.684008, 2ª classe - 19.412328, 3ª classe - 13.669364"
   ]
  },
  {
   "cell_type": "markdown",
   "metadata": {},
   "source": [
    "## Pergunta feita\n",
    "A pergunta feita procura verificar segundo os registros a relação entre sobreviventes e vítimas da tragédia, baseados no seu sexo e classe ao qual comprou o ticket, sendo 1ª classe os mais ricos e 3ª classe os tickets para pessoas mais pobres\n",
    "\n",
    "### Começamos no gráfico abaixo com a análise de mortos e sobreviventes entre os homens."
   ]
  },
  {
   "cell_type": "code",
   "execution_count": 13,
   "metadata": {},
   "outputs": [
    {
     "data": {
      "text/plain": [
       "Text(0.5, 1.0, 'Relação entre sobreviventes e vítimas entre os homens')"
      ]
     },
     "execution_count": 13,
     "metadata": {},
     "output_type": "execute_result"
    },
    {
     "data": {
      "image/png": "[encoded data removed]",
      "text/plain": [
       "<Figure size 432x288 with 1 Axes>"
      ]
     },
     "metadata": {},
     "output_type": "display_data"
    }
   ],
   "source": [
    "df_male = df_titanic.query(\"sex == 'male'\")\n",
    "df_male_survived = df_male.query('survived == 1')\n",
    "df_male_died = df_male.query('survived == 0')\n",
    "\n",
    "labels = 'Sobreviveu', 'Morreu'\n",
    "sizes = [len(df_male_survived), len(df_male_died)]\n",
    "\n",
    "fig1, ax1 = plt.subplots()\n",
    "ax1.pie(sizes, labels=labels, shadow=True, startangle=90, autopct='%1.1f%%')\n",
    "ax1.axis('equal')  # Equal aspect ratio ensures that pie is drawn as a circle.\n",
    "\n",
    "plt.title('Relação entre sobreviventes e vítimas entre os homens')"
   ]
  },
  {
   "cell_type": "markdown",
   "metadata": {},
   "source": [
    "### A seguir temos o gráfico com a relação entre mortos e sobreviventes entre as mulheres."
   ]
  },
  {
   "cell_type": "code",
   "execution_count": 14,
   "metadata": {},
   "outputs": [
    {
     "data": {
      "text/plain": [
       "Text(0.5, 1.0, 'Relação entre sobreviventes e vítimas entre as mulheres')"
      ]
     },
     "execution_count": 14,
     "metadata": {},
     "output_type": "execute_result"
    },
    {
     "data": {
      "image/png": "[encoded data removed]",
      "text/plain": [
       "<Figure size 432x288 with 1 Axes>"
      ]
     },
     "metadata": {},
     "output_type": "display_data"
    }
   ],
   "source": [
    "df_female = df_titanic.query(\"sex == 'female'\")\n",
    "df_female_survived = df_female.query('survived == 1')\n",
    "df_female_died = df_female.query('survived == 0')\n",
    "\n",
    "labels = 'Sobreviveu', 'Morreu'\n",
    "sizes = [len(df_female_survived), len(df_female_died)]\n",
    "\n",
    "fig1, ax1 = plt.subplots()\n",
    "ax1.pie(sizes, labels=labels, shadow=True, startangle=90, autopct='%1.1f%%')\n",
    "ax1.axis('equal')  # Equal aspect ratio ensures that pie is drawn as a circle.\n",
    "\n",
    "plt.title('Relação entre sobreviventes e vítimas entre as mulheres')"
   ]
  },
  {
   "cell_type": "markdown",
   "metadata": {},
   "source": [
    "Observamos nos gráficos acima que o número de mortos entre homens e mulheres foi bem discrepante, o que corrobora a versão do famoso filme sobre a tragédia do Titanic, onde vários homens se sacrificam para que suas mulheres e filhos saiam ilesos do acidente.\n",
    "\n",
    "### A seguir temos o gráfico com a relação entre mortos e sobreviventes entre os passageiros da 1ª classe."
   ]
  },
  {
   "cell_type": "code",
   "execution_count": 15,
   "metadata": {},
   "outputs": [
    {
     "data": {
      "text/plain": [
       "Text(0.5, 1.0, 'Relação entre sobreviventes e vítimas na 1ª classe')"
      ]
     },
     "execution_count": 15,
     "metadata": {},
     "output_type": "execute_result"
    },
    {
     "data": {
      "image/png": "[encoded data removed]",
      "text/plain": [
       "<Figure size 432x288 with 1 Axes>"
      ]
     },
     "metadata": {},
     "output_type": "display_data"
    }
   ],
   "source": [
    "df_1_class = df_titanic.query('pclass == 1')\n",
    "df_1_class_survived = df_1_class.query('survived == 1')\n",
    "df_1_class_died = df_1_class.query('survived == 0')\n",
    "\n",
    "labels = 'Sobreviveu', 'Morreu'\n",
    "sizes = [len(df_1_class_survived), len(df_1_class_died)]\n",
    "\n",
    "fig1, ax1 = plt.subplots()\n",
    "ax1.pie(sizes, labels=labels, shadow=True, startangle=90, autopct='%1.1f%%')\n",
    "ax1.axis('equal')  # Equal aspect ratio ensures that pie is drawn as a circle.\n",
    "\n",
    "plt.title('Relação entre sobreviventes e vítimas na 1ª classe')"
   ]
  },
  {
   "cell_type": "markdown",
   "metadata": {},
   "source": [
    "### A seguir temos o gráfico com a relação entre mortos e sobreviventes entre os passageiros da 2ª classe."
   ]
  },
  {
   "cell_type": "code",
   "execution_count": 16,
   "metadata": {},
   "outputs": [
    {
     "data": {
      "text/plain": [
       "Text(0.5, 1.0, 'Relação entre sobreviventes e vítimas na 2ª classe')"
      ]
     },
     "execution_count": 16,
     "metadata": {},
     "output_type": "execute_result"
    },
    {
     "data": {
      "image/png": "[encoded data removed]",
      "text/plain": [
       "<Figure size 432x288 with 1 Axes>"
      ]
     },
     "metadata": {},
     "output_type": "display_data"
    }
   ],
   "source": [
    "df_2_class = df_titanic.query('pclass == 2')\n",
    "df_2_class_survived = df_2_class.query('survived == 1')\n",
    "df_2_class_died = df_2_class.query('survived == 0')\n",
    "\n",
    "labels = 'Sobreviveu', 'Morreu'\n",
    "sizes = [len(df_2_class_survived), len(df_2_class_died)]\n",
    "\n",
    "fig1, ax1 = plt.subplots()\n",
    "ax1.pie(sizes, labels=labels, shadow=True, startangle=90, autopct='%1.1f%%')\n",
    "ax1.axis('equal')  # Equal aspect ratio ensures that pie is drawn as a circle.\n",
    "\n",
    "plt.title('Relação entre sobreviventes e vítimas na 2ª classe')"
   ]
  },
  {
   "cell_type": "markdown",
   "metadata": {},
   "source": [
    "### A seguir temos o gráfico com a relação entre mortos e sobreviventes entre os passageiros da 3ª classe."
   ]
  },
  {
   "cell_type": "code",
   "execution_count": 17,
   "metadata": {},
   "outputs": [
    {
     "data": {
      "text/plain": [
       "Text(0.5, 1.0, 'Relação entre sobreviventes e vítimas na 3ª classe')"
      ]
     },
     "execution_count": 17,
     "metadata": {},
     "output_type": "execute_result"
    },
    {
     "data": {
      "image/png": "[encoded data removed]",
      "text/plain": [
       "<Figure size 432x288 with 1 Axes>"
      ]
     },
     "metadata": {},
     "output_type": "display_data"
    }
   ],
   "source": [
    "df_3_class = df_titanic.query('pclass == 3')\n",
    "df_3_class_survived = df_3_class.query('survived == 1')\n",
    "df_3_class_died = df_3_class.query('survived == 0')\n",
    "\n",
    "labels = 'Sobreviveu', 'Morreu'\n",
    "sizes = [len(df_3_class_survived), len(df_3_class_died)]\n",
    "\n",
    "fig1, ax1 = plt.subplots()\n",
    "ax1.pie(sizes, labels=labels, shadow=True, startangle=90, autopct='%1.1f%%')\n",
    "ax1.axis('equal')  # Equal aspect ratio ensures that pie is drawn as a circle.\n",
    "\n",
    "plt.title('Relação entre sobreviventes e vítimas na 3ª classe')"
   ]
  },
  {
   "cell_type": "markdown",
   "metadata": {},
   "source": [
    "Analisando os gráficos acima, vemos que a porcetagem de mortos cresce conforme o seu ticket é mais barato, o que corrobora novamente a versão do famoso filme, onde houve privilégios para os mais ricos na distribuição do botes e coletes salva-vidas\n",
    "\n",
    "### Abaixo temos um gráfico de dispersão que mostra a relação entre o preço dos tickets e os mortos\n",
    "\n",
    "23. Quais fatores contribuíram para a sobrevivência dos passageiros a bordo? \n",
    "\n",
    "Onde fica claro novamente que o preço do ticket influenciou diretamente se o passageiro sobreviveu ou morreu(O mais caro de todos, ninguém morreu). 0.0 - Morreu, 1.0 - Sobreviveu"
   ]
  },
  {
   "cell_type": "code",
   "execution_count": 18,
   "metadata": {},
   "outputs": [
    {
     "data": {
      "text/plain": [
       "Text(0.5, 1.0, 'Gráfico de dispersão entre o preço do ticket a situação na tragédia, morto ou sobrevivente')"
      ]
     },
     "execution_count": 18,
     "metadata": {},
     "output_type": "execute_result"
    },
    {
     "data": {
      "image/png": "[encoded data removed]",
      "text/plain": [
       "<Figure size 432x288 with 1 Axes>"
      ]
     },
     "metadata": {
      "needs_background": "light"
     },
     "output_type": "display_data"
    }
   ],
   "source": [
    "lenght = len(df_titanic)\n",
    "survived = df_titanic['survived']\n",
    "fare = df_titanic['fare']\n",
    "colors = np.random.rand(lenght)\n",
    "area = (30 * np.random.rand(lenght))**2\n",
    "\n",
    "plt.scatter(survived, fare, c=colors, s=area, alpha=0.5)\n",
    "plt.ylabel('Preço do ticket')\n",
    "plt.xlabel('Situação: 1.0 - sobrevivente, 0.0 - morto')\n",
    "plt.title('Gráfico de dispersão entre o preço do ticket a situação na tragédia, morto ou sobrevivente')"
   ]
  },
  {
   "cell_type": "markdown",
   "metadata": {},
   "source": [
    "Vemos no gráfico de barras acima, a representação de mortos e sobreviventes de todos os tipos de tickets, da 1ª à 3ª classe, e observamos melhor a tendência de maior chance de sobrevivência quanto for mais caro o ticket.\n",
    "\n",
    "### Os gráficos abaixo são também relações entre mortos e sobreviventes entre as mulheres e homens, e também a relação dos tickets de 1ª, 2ª e 3ª classe entre mortos e sobreviventes, só que agora representados por gráficos de barras\n",
    "\n",
    "Obtenha as contagens para cada sexo e situação(sobreviveu ou morreu)"
   ]
  },
  {
   "cell_type": "code",
   "execution_count": 19,
   "metadata": {},
   "outputs": [],
   "source": [
    "def get_ind(dataset):\n",
    "    \"\"\"Pega um DataFrame e retorma uma matriz com os valores uniformemente espaçados.\n",
    "    \n",
    "    INPUT:\n",
    "    dataset: pd.DataFrame. Um DataFrame do Pandas\n",
    "    \n",
    "    OUTPUT: \n",
    "    arange : ndarray. Matriz de valores uniformemente espaçados\n",
    "    \"\"\"\n",
    "    return np.arange(len(dataset))"
   ]
  },
  {
   "cell_type": "code",
   "execution_count": 20,
   "metadata": {},
   "outputs": [
    {
     "data": {
      "text/plain": [
       "sex     survived\n",
       "female  0            81\n",
       "        1           231\n",
       "male    0           468\n",
       "        1           109\n",
       "Name: pclass, dtype: int64"
      ]
     },
     "execution_count": 20,
     "metadata": {},
     "output_type": "execute_result"
    }
   ],
   "source": [
    "sex_counts = df_titanic.groupby(['sex', 'survived']).count()['pclass']\n",
    "sex_counts"
   ]
  },
  {
   "cell_type": "markdown",
   "metadata": {},
   "source": [
    "Obtenha a contagem total para cada sexo"
   ]
  },
  {
   "cell_type": "code",
   "execution_count": 21,
   "metadata": {},
   "outputs": [
    {
     "data": {
      "text/plain": [
       "sex\n",
       "female    312\n",
       "male      577\n",
       "Name: pclass, dtype: int64"
      ]
     },
     "execution_count": 21,
     "metadata": {},
     "output_type": "execute_result"
    }
   ],
   "source": [
    "sex_totals = df_titanic.groupby('sex').count()['pclass']\n",
    "sex_totals"
   ]
  },
  {
   "cell_type": "markdown",
   "metadata": {},
   "source": [
    "Obtenha proporções dividindo as contagens do sexo masculino pelo número total de passageiros homem"
   ]
  },
  {
   "cell_type": "code",
   "execution_count": 22,
   "metadata": {},
   "outputs": [
    {
     "data": {
      "text/plain": [
       "survived\n",
       "0    0.811092\n",
       "1    0.188908\n",
       "Name: pclass, dtype: float64"
      ]
     },
     "execution_count": 22,
     "metadata": {},
     "output_type": "execute_result"
    }
   ],
   "source": [
    "male_proportions = sex_counts['male'] / sex_totals['male']\n",
    "male_proportions"
   ]
  },
  {
   "cell_type": "markdown",
   "metadata": {},
   "source": [
    "Obtenha proporções dividindo as contagens do sexo feminino pelo número total de passageiros mulher"
   ]
  },
  {
   "cell_type": "code",
   "execution_count": 23,
   "metadata": {},
   "outputs": [
    {
     "data": {
      "text/plain": [
       "survived\n",
       "0    0.259615\n",
       "1    0.740385\n",
       "Name: pclass, dtype: float64"
      ]
     },
     "execution_count": 23,
     "metadata": {},
     "output_type": "execute_result"
    }
   ],
   "source": [
    "female_proportions = sex_counts['female'] / sex_totals['female']\n",
    "female_proportions"
   ]
  },
  {
   "cell_type": "markdown",
   "metadata": {},
   "source": [
    "ind - a localização no eixo x dos grupos, width - a largura das barras"
   ]
  },
  {
   "cell_type": "code",
   "execution_count": 24,
   "metadata": {},
   "outputs": [],
   "source": [
    "ind = get_ind(male_proportions)\n",
    "width = 0.35 "
   ]
  },
  {
   "cell_type": "code",
   "execution_count": 25,
   "metadata": {},
   "outputs": [
    {
     "data": {
      "text/plain": [
       "<matplotlib.legend.Legend at 0x2158cf44390>"
      ]
     },
     "execution_count": 25,
     "metadata": {},
     "output_type": "execute_result"
    },
    {
     "data": {
      "image/png": "[encoded data removed]",
      "text/plain": [
       "<Figure size 432x288 with 1 Axes>"
      ]
     },
     "metadata": {
      "needs_background": "light"
     },
     "output_type": "display_data"
    }
   ],
   "source": [
    "male_bars = plt.bar(ind, male_proportions, width, color='r', alpha=.7, label='Homem')\n",
    "female_bars = plt.bar(ind + width, female_proportions, width, color='b', alpha=.7, label='Mulher')\n",
    "\n",
    "plt.ylabel('Proporção')\n",
    "plt.xlabel('Situação')\n",
    "plt.title('Proporção de mortos e vivos entre Homens e Mulheres')\n",
    "locations = ind + width / 2\n",
    "labels = ['Morreu', 'Sobreviveu']\n",
    "plt.xticks(locations, labels)\n",
    "\n",
    "plt.legend()"
   ]
  },
  {
   "cell_type": "markdown",
   "metadata": {},
   "source": [
    "Vemos no gráfico acima a comparação por meio do gráfico de barras entre mortos e sobreviventes entre Homens e Mulheres, e vemos claramente que muito mais homens morreram em relação as mulheres, como obviamente, sobreviveram muito menos homens, que é o complemento."
   ]
  },
  {
   "cell_type": "markdown",
   "metadata": {},
   "source": [
    "Obtenha as contagens para cada classe e situação(sobreviveu ou morreu)"
   ]
  },
  {
   "cell_type": "code",
   "execution_count": 26,
   "metadata": {},
   "outputs": [
    {
     "data": {
      "text/plain": [
       "pclass  survived\n",
       "1       0            80\n",
       "        1           134\n",
       "2       0            97\n",
       "        1            87\n",
       "3       0           372\n",
       "        1           119\n",
       "Name: sex, dtype: int64"
      ]
     },
     "execution_count": 26,
     "metadata": {},
     "output_type": "execute_result"
    }
   ],
   "source": [
    "class_counts = df_titanic.groupby(['pclass', 'survived']).count()['sex']\n",
    "class_counts"
   ]
  },
  {
   "cell_type": "markdown",
   "metadata": {},
   "source": [
    "Obtenha a contagem total para cada classe"
   ]
  },
  {
   "cell_type": "code",
   "execution_count": 27,
   "metadata": {},
   "outputs": [
    {
     "data": {
      "text/plain": [
       "pclass\n",
       "1    214\n",
       "2    184\n",
       "3    491\n",
       "Name: sex, dtype: int64"
      ]
     },
     "execution_count": 27,
     "metadata": {},
     "output_type": "execute_result"
    }
   ],
   "source": [
    "class_totals = df_titanic.groupby('pclass').count()['sex']\n",
    "class_totals"
   ]
  },
  {
   "cell_type": "markdown",
   "metadata": {},
   "source": [
    "Obtenha proporções dividindo as contagens de primeira classe pelo número total de passagens da primeira classe"
   ]
  },
  {
   "cell_type": "code",
   "execution_count": 28,
   "metadata": {},
   "outputs": [
    {
     "data": {
      "text/plain": [
       "survived\n",
       "0    0.373832\n",
       "1    0.626168\n",
       "Name: sex, dtype: float64"
      ]
     },
     "execution_count": 28,
     "metadata": {},
     "output_type": "execute_result"
    }
   ],
   "source": [
    "class_1_proportions = class_counts[1] / class_totals[1]\n",
    "class_1_proportions"
   ]
  },
  {
   "cell_type": "markdown",
   "metadata": {},
   "source": [
    "Obtenha proporções dividindo as contagens de segunda classe pelo número total de passagens da segunda classe"
   ]
  },
  {
   "cell_type": "code",
   "execution_count": 29,
   "metadata": {},
   "outputs": [
    {
     "data": {
      "text/plain": [
       "survived\n",
       "0    0.527174\n",
       "1    0.472826\n",
       "Name: sex, dtype: float64"
      ]
     },
     "execution_count": 29,
     "metadata": {},
     "output_type": "execute_result"
    }
   ],
   "source": [
    "class_2_proportions = class_counts[2] / class_totals[2]\n",
    "class_2_proportions"
   ]
  },
  {
   "cell_type": "markdown",
   "metadata": {},
   "source": [
    "Obtenha proporções dividindo as contagens de terceira classe pelo número total de passagens da terceira classe"
   ]
  },
  {
   "cell_type": "code",
   "execution_count": 30,
   "metadata": {},
   "outputs": [
    {
     "data": {
      "text/plain": [
       "survived\n",
       "0    0.757637\n",
       "1    0.242363\n",
       "Name: sex, dtype: float64"
      ]
     },
     "execution_count": 30,
     "metadata": {},
     "output_type": "execute_result"
    }
   ],
   "source": [
    "class_3_proportions = class_counts[3] / class_totals[3]\n",
    "class_3_proportions"
   ]
  },
  {
   "cell_type": "code",
   "execution_count": 31,
   "metadata": {},
   "outputs": [],
   "source": [
    "ind = get_ind(class_3_proportions)\n",
    "width = 0.30  "
   ]
  },
  {
   "cell_type": "code",
   "execution_count": 32,
   "metadata": {
    "scrolled": true
   },
   "outputs": [
    {
     "data": {
      "text/plain": [
       "<matplotlib.legend.Legend at 0x2158cfa2668>"
      ]
     },
     "execution_count": 32,
     "metadata": {},
     "output_type": "execute_result"
    },
    {
     "data": {
      "image/png": "[encoded data removed]",
      "text/plain": [
       "<Figure size 432x288 with 1 Axes>"
      ]
     },
     "metadata": {
      "needs_background": "light"
     },
     "output_type": "display_data"
    }
   ],
   "source": [
    "class_1_bars = plt.bar(ind, class_1_proportions, width, color='r', alpha=.7, label='1ª Classe')\n",
    "class_2_bars = plt.bar(ind + width, class_2_proportions, width, color='b', alpha=.7, label='2ª Classe')\n",
    "class_3_bars = plt.bar(ind + width + width, class_3_proportions, width, color='g', alpha=.7, label='3ª Classe')\n",
    "\n",
    "plt.ylabel('Proporção')\n",
    "plt.xlabel('Situação')\n",
    "plt.title('Proporção de mortos e vivos entres as classes de passagens')\n",
    "locations = ind + width / 2\n",
    "labels = ['Morreu', 'Sobreviveu']\n",
    "plt.xticks(locations, labels)\n",
    "\n",
    "plt.legend()"
   ]
  },
  {
   "cell_type": "markdown",
   "metadata": {},
   "source": [
    "Vemos no gráfico de barras acima, a representação de mortos e sobreviventes de todos os tipos de tickets, da 1ª à 3ª classe, e observamos melhor a tendência de maior chance de sobrevivência quanto for mais caro o ticket."
   ]
  },
  {
   "cell_type": "markdown",
   "metadata": {},
   "source": [
    "## Conclusões\n",
    "\n",
    "Podemos concluir com a análise dos dados acima, que tanto o fator sexo, quanto o fator classe do ticket, influenciaram diretamente se o passageiro sobreviveu ou não a tragédia.\n",
    "\n",
    "Mais de 80% do homens morreram, em detrimento dos quase 26% de mulheres que morreram no acidente.\n",
    "\n",
    "Já as classes, temos que os passageiros de 1ª classe, apenas 37% morreram, e esse número vai aumentando conforme a classe do ticket aumenta, onde 52% dos passageiros de 2ª classe morreram, e finalmente mais de 75% dos passageiros de 3ª classe morreram na tragédia. Vemos claramente um benefício maior na distruição dos meios de sobrevivência quanto mais rico fosse o passageiro, muito bem retradado no filme clássico Titanic de 1997.\n",
    "\n",
    "## Limitações\n",
    "\n",
    "Logo de cara abrindo os dados, percebe-se que algumas colunas são desnecessárias na nossa análise ou estão com valores faltantes, são elas `Age`, `Cabin` e `Embarked`.\n",
    "\n",
    "### Medida tomada\n",
    "\n",
    "1. Age - Atribuimos a média das colunas ao valores faltantes.\n",
    "\n",
    "2. Cabin - Removemos essa coluna i"
   ]
  },
  {
   "cell_type": "markdown",
   "metadata": {},
   "source": [
    "### Referências\n",
    "\n",
    "1. Documentação oficial do [Pandas](https://pandas.pydata.org/pandas-docs/stable/api.html)\n",
    "2. Documentação oficial do [Matplotlib](https://matplotlib.org/api/pyplot_summary.html)\n",
    "3. Documentação oficial do [NumPy](https://docs.scipy.org/doc/numpy/reference/index.html)\n",
    "4. [Stackoverflow](https://stackoverflow.com/)"
   ]
  }
 ],
 "metadata": {
  "kernelspec": {
   "display_name": "Python 3",
   "language": "python",
   "name": "python3"
  },
  "language_info": {
   "codemirror_mode": {
    "name": "ipython",
    "version": 3
   },
   "file_extension": ".py",
   "mimetype": "text/x-python",
   "name": "python",
   "nbconvert_exporter": "python",
   "pygments_lexer": "ipython3",
   "version": "3.7.1"
  }
 },
 "nbformat": 4,
 "nbformat_minor": 2
}
